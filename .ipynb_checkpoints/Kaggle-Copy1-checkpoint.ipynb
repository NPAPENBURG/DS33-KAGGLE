{
 "cells": [
  {
   "cell_type": "code",
   "execution_count": 68,
   "id": "871e770b",
   "metadata": {},
   "outputs": [],
   "source": [
    "# Importing libaries that I will be using\n",
    "\n",
    "from category_encoders import OneHotEncoder, OrdinalEncoder\n",
    "from pandas_profiling import ProfileReport\n",
    "from sklearn.impute import SimpleImputer\n",
    "from sklearn.linear_model import LogisticRegression\n",
    "from sklearn.model_selection import train_test_split\n",
    "from sklearn.model_selection import cross_val_score # k-fold CV\n",
    "from sklearn.model_selection import GridSearchCV, RandomizedSearchCV # Hyperparameter tuning\n",
    "from sklearn.pipeline import make_pipeline\n",
    "from sklearn.preprocessing import StandardScaler\n",
    "from sklearn.tree import DecisionTreeClassifier, plot_tree\n",
    "from sklearn.ensemble import RandomForestClassifier\n",
    "import matplotlib.pyplot as plt\n",
    "import pandas as pd"
   ]
  },
  {
   "cell_type": "code",
   "execution_count": 69,
   "id": "8c5d8e4a",
   "metadata": {},
   "outputs": [],
   "source": [
    "# Data wrangle fuction\n",
    "def wrangle(fm_path, tv_path=None):\n",
    "    if tv_path:\n",
    "        df = pd.merge(pd.read_csv(fm_path, \n",
    "                              # Turn these values into NaN    \n",
    "                              na_values=[0, -2.000000e-08],\n",
    "                              # Turn this column into datetime\n",
    "                              parse_dates=['date_recorded']),\n",
    "                  # Turn the 'id' column into the dataframe index\n",
    "                  pd.read_csv(tv_path)).set_index('id')\n",
    "    else:\n",
    "        df = pd.read_csv(fm_path, \n",
    "                     na_values=[0, -2.000000e-08],\n",
    "                     parse_dates=['date_recorded'],\n",
    "                     index_col='id')\n",
    "\n",
    "    # Drop constant columns\n",
    "    df.drop(columns=['recorded_by'], inplace=True)\n",
    "\n",
    "    # Create age feature\n",
    "    df['pump_age'] = df['date_recorded'].dt.year - df['construction_year']\n",
    "    df.drop(columns='date_recorded', inplace=True)\n",
    "\n",
    "    # Drop HCCCs\n",
    "    cutoff = 100\n",
    "    drop_cols = [col for col in df.select_dtypes('object').columns\n",
    "              if df[col].nunique() > cutoff]\n",
    "    df.drop(columns=drop_cols, inplace=True)\n",
    "\n",
    "    # Drop duplicate columns\n",
    "    dupe_cols = [col for col in df.head(100).T.duplicated().index\n",
    "               if df.head(100).T.duplicated()[col]]\n",
    "    df.drop(columns=dupe_cols, inplace=True)      \n",
    "    \n",
    "\n",
    "\n",
    "    return df"
   ]
  },
  {
   "cell_type": "code",
   "execution_count": 70,
   "id": "af26355b",
   "metadata": {},
   "outputs": [],
   "source": [
    "# Importing the datasets and using the wrangle function on them\n",
    "df = wrangle(fm_path='train_features.csv',\n",
    "             tv_path='train_labels.csv')\n",
    "\n",
    "X_test = wrangle(fm_path='test_features.csv')"
   ]
  },
  {
   "cell_type": "code",
   "execution_count": 71,
   "id": "ad235123",
   "metadata": {},
   "outputs": [],
   "source": [
    "# Splitting into my X matrix and y vector\n",
    "# We want to predict what water pumps need to be repaired\n",
    "target = 'status_group'\n",
    "y = df[target]\n",
    "X = df.drop(columns = target)"
   ]
  },
  {
   "cell_type": "code",
   "execution_count": 72,
   "id": "7af27420",
   "metadata": {},
   "outputs": [],
   "source": [
    "# Creating training and validation sets\n",
    "X_train, X_val, y_train, y_val = train_test_split(X,y, test_size=.08, random_state =42)"
   ]
  },
  {
   "cell_type": "code",
   "execution_count": 73,
   "id": "1ba2c278",
   "metadata": {},
   "outputs": [
    {
     "name": "stdout",
     "output_type": "stream",
     "text": [
      "Baseline: 0.5429828068772491\n"
     ]
    }
   ],
   "source": [
    "# Establishing a baseline\n",
    "#Checking to see what the current y counts look like.\n",
    "y.value_counts()\n",
    "\n",
    "# Turning the y counts into floats(percents)\n",
    "y.value_counts(normalize=True)\n",
    "\n",
    "# The baseline will always be the majority in categorical\n",
    "baseline = y.value_counts(normalize=True).max()\n",
    "\n",
    "print('Baseline:', baseline)"
   ]
  },
  {
   "cell_type": "markdown",
   "id": "30ad018c",
   "metadata": {},
   "source": []
  },
  {
   "cell_type": "code",
   "execution_count": 74,
   "id": "5ea7d01c",
   "metadata": {},
   "outputs": [
    {
     "name": "stderr",
     "output_type": "stream",
     "text": [
      "C:\\Users\\Bigpa\\anaconda3\\lib\\site-packages\\sklearn\\linear_model\\_logistic.py:763: ConvergenceWarning: lbfgs failed to converge (status=1):\n",
      "STOP: TOTAL NO. of ITERATIONS REACHED LIMIT.\n",
      "\n",
      "Increase the number of iterations (max_iter) or scale the data as shown in:\n",
      "    https://scikit-learn.org/stable/modules/preprocessing.html\n",
      "Please also refer to the documentation for alternative solver options:\n",
      "    https://scikit-learn.org/stable/modules/linear_model.html#logistic-regression\n",
      "  n_iter_i = _check_optimize_result(\n"
     ]
    },
    {
     "data": {
      "text/plain": [
       "Pipeline(steps=[('onehotencoder',\n",
       "                 OneHotEncoder(cols=['basin', 'region', 'public_meeting',\n",
       "                                     'scheme_management', 'permit',\n",
       "                                     'extraction_type', 'extraction_type_group',\n",
       "                                     'extraction_type_class', 'management',\n",
       "                                     'management_group', 'payment',\n",
       "                                     'payment_type', 'water_quality',\n",
       "                                     'quality_group', 'quantity', 'source',\n",
       "                                     'source_type', 'source_class',\n",
       "                                     'waterpoint_type',\n",
       "                                     'waterpoint_type_group'],\n",
       "                               use_cat_names=True)),\n",
       "                ('simpleimputer', SimpleImputer()),\n",
       "                ('standardscaler', StandardScaler()),\n",
       "                ('logisticregression', LogisticRegression())])"
      ]
     },
     "execution_count": 74,
     "metadata": {},
     "output_type": "execute_result"
    }
   ],
   "source": [
    "### FIRST MODEL: Logistic Regression\n",
    "### TUNING IS FURTHER DOWN\n",
    "\n",
    "model_lr = make_pipeline(\n",
    "            OneHotEncoder(use_cat_names=True),\n",
    "            SimpleImputer(strategy='mean'),\n",
    "            StandardScaler(),\n",
    "            LogisticRegression()\n",
    "            )\n",
    "model_lr.fit(X_train, y_train)"
   ]
  },
  {
   "cell_type": "code",
   "execution_count": 75,
   "id": "11ca73f9",
   "metadata": {},
   "outputs": [
    {
     "data": {
      "text/plain": [
       "Pipeline(steps=[('ordinalencoder',\n",
       "                 OrdinalEncoder(cols=['basin', 'region', 'public_meeting',\n",
       "                                      'scheme_management', 'permit',\n",
       "                                      'extraction_type',\n",
       "                                      'extraction_type_group',\n",
       "                                      'extraction_type_class', 'management',\n",
       "                                      'management_group', 'payment',\n",
       "                                      'payment_type', 'water_quality',\n",
       "                                      'quality_group', 'quantity', 'source',\n",
       "                                      'source_type', 'source_class',\n",
       "                                      'waterpoint_type',\n",
       "                                      'waterpoin...\n",
       "communal standpipe             2\n",
       "communal standpipe multiple    3\n",
       "other                          4\n",
       "improved spring                5\n",
       "cattle trough                  6\n",
       "dam                            7\n",
       "NaN                           -2\n",
       "dtype: int64},\n",
       "                                         {'col': 'waterpoint_type_group',\n",
       "                                          'data_type': dtype('O'),\n",
       "                                          'mapping': hand pump             1\n",
       "communal standpipe    2\n",
       "other                 3\n",
       "improved spring       4\n",
       "cattle trough         5\n",
       "dam                   6\n",
       "NaN                  -2\n",
       "dtype: int64}])),\n",
       "                ('simpleimputer', SimpleImputer()),\n",
       "                ('decisiontreeclassifier',\n",
       "                 DecisionTreeClassifier(max_depth=16, random_state=42))])"
      ]
     },
     "execution_count": 75,
     "metadata": {},
     "output_type": "execute_result"
    }
   ],
   "source": [
    "### SECOND MODEL: Decision tree classifier\n",
    "### TUNING IS FURTHER DOWN\n",
    "\n",
    "model_dt = make_pipeline(\n",
    "            OrdinalEncoder(),\n",
    "            SimpleImputer(strategy='mean'),\n",
    "            DecisionTreeClassifier(random_state=42, max_depth=16)\n",
    "            )\n",
    "model_dt.fit(X_train, y_train)"
   ]
  },
  {
   "cell_type": "code",
   "execution_count": 76,
   "id": "b656c15b",
   "metadata": {},
   "outputs": [
    {
     "data": {
      "text/plain": [
       "Pipeline(steps=[('ordinalencoder',\n",
       "                 OrdinalEncoder(cols=['basin', 'region', 'public_meeting',\n",
       "                                      'scheme_management', 'permit',\n",
       "                                      'extraction_type',\n",
       "                                      'extraction_type_group',\n",
       "                                      'extraction_type_class', 'management',\n",
       "                                      'management_group', 'payment',\n",
       "                                      'payment_type', 'water_quality',\n",
       "                                      'quality_group', 'quantity', 'source',\n",
       "                                      'source_type', 'source_class',\n",
       "                                      'waterpoint_type',\n",
       "                                      'waterpoin...\n",
       "communal standpipe multiple    3\n",
       "other                          4\n",
       "improved spring                5\n",
       "cattle trough                  6\n",
       "dam                            7\n",
       "NaN                           -2\n",
       "dtype: int64},\n",
       "                                         {'col': 'waterpoint_type_group',\n",
       "                                          'data_type': dtype('O'),\n",
       "                                          'mapping': hand pump             1\n",
       "communal standpipe    2\n",
       "other                 3\n",
       "improved spring       4\n",
       "cattle trough         5\n",
       "dam                   6\n",
       "NaN                  -2\n",
       "dtype: int64}])),\n",
       "                ('simpleimputer', SimpleImputer()),\n",
       "                ('randomforestclassifier',\n",
       "                 RandomForestClassifier(max_depth=20, n_jobs=-1,\n",
       "                                        random_state=42))])"
      ]
     },
     "execution_count": 76,
     "metadata": {},
     "output_type": "execute_result"
    }
   ],
   "source": [
    "### THIRD MODEL: RandomForest\n",
    "### TUNING IS FURTHER DOWN\n",
    "\n",
    "model_rf = make_pipeline(\n",
    "            OrdinalEncoder(),\n",
    "            SimpleImputer(strategy='mean'),\n",
    "            RandomForestClassifier(random_state=42,n_estimators=100,n_jobs=-1, max_depth=20)\n",
    "            )\n",
    "model_rf.fit(X_train, y_train)\n"
   ]
  },
  {
   "cell_type": "code",
   "execution_count": 77,
   "id": "82aa7cd9",
   "metadata": {},
   "outputs": [
    {
     "name": "stdout",
     "output_type": "stream",
     "text": [
      "Fitting 5 folds for each of 56 candidates, totalling 280 fits\n"
     ]
    },
    {
     "data": {
      "text/plain": [
       "GridSearchCV(cv=5,\n",
       "             estimator=Pipeline(steps=[('ordinalencoder', OrdinalEncoder()),\n",
       "                                       ('simpleimputer', SimpleImputer()),\n",
       "                                       ('randomforestclassifier',\n",
       "                                        RandomForestClassifier(n_estimators=25,\n",
       "                                                               random_state=42))]),\n",
       "             n_jobs=-1,\n",
       "             param_grid={'randomforestclassifier__max_depth': range(5, 40, 5),\n",
       "                         'randomforestclassifier__n_estimators': range(25, 125, 25),\n",
       "                         'simpleimputer__strategy': ['mean', 'median']},\n",
       "             verbose=1)"
      ]
     },
     "execution_count": 77,
     "metadata": {},
     "output_type": "execute_result"
    }
   ],
   "source": [
    "### TUNING RANDOMFOREST\n",
    "clf = make_pipeline(\n",
    "    OrdinalEncoder(),\n",
    "    SimpleImputer(),\n",
    "    RandomForestClassifier(n_estimators=25, random_state=42)\n",
    ")\n",
    "\n",
    "param_grid = {\n",
    "    'simpleimputer__strategy': ['mean', 'median'],\n",
    "    'randomforestclassifier__max_depth': range(5,40,5),\n",
    "    'randomforestclassifier__n_estimators': range(25, 125, 25)\n",
    "}\n",
    "\n",
    "model_rfgs = GridSearchCV(\n",
    "    clf,\n",
    "    param_grid=param_grid,\n",
    "    n_jobs=-1,\n",
    "    cv=5,\n",
    "    verbose=1\n",
    ")\n",
    "\n",
    "model_rfgs.fit(X_train, y_train)"
   ]
  },
  {
   "cell_type": "code",
   "execution_count": 78,
   "id": "21ea5150",
   "metadata": {},
   "outputs": [
    {
     "data": {
      "text/plain": [
       "{'randomforestclassifier__max_depth': 20,\n",
       " 'randomforestclassifier__n_estimators': 100,\n",
       " 'simpleimputer__strategy': 'mean'}"
      ]
     },
     "execution_count": 78,
     "metadata": {},
     "output_type": "execute_result"
    }
   ],
   "source": [
    "# Checking the best parameters\n",
    "model_rfgs.best_params_"
   ]
  },
  {
   "cell_type": "code",
   "execution_count": 79,
   "id": "2fea1bd2",
   "metadata": {},
   "outputs": [],
   "source": [
    "# Checking the best score"
   ]
  },
  {
   "cell_type": "code",
   "execution_count": 80,
   "id": "983d6460",
   "metadata": {},
   "outputs": [
    {
     "data": {
      "text/plain": [
       "0.8027542593478783"
      ]
     },
     "execution_count": 80,
     "metadata": {},
     "output_type": "execute_result"
    }
   ],
   "source": [
    "model_rfgs.best_score_"
   ]
  },
  {
   "cell_type": "code",
   "execution_count": 81,
   "id": "b7f66f47",
   "metadata": {},
   "outputs": [
    {
     "name": "stdout",
     "output_type": "stream",
     "text": [
      "Logistic Regresion training accuracy: 0.7369444380904454\n",
      "Logistic Regresion validation accuracy: 0.741977906365071\n",
      "\n",
      "Decision Tree training accuracy: 0.871880504151703\n",
      "Decision Tree validation accuracy: 0.7748553392951079\n",
      "\n",
      "Random Forest training accuracy: 0.945467438296315\n",
      "Random Forest validation accuracy: 0.8100999473961074\n",
      "\n"
     ]
    }
   ],
   "source": [
    "### Check Metrics\n",
    "\n",
    "#Logistic Regresion Metrics\n",
    "\n",
    "print('Logistic Regresion training accuracy:', model_lr.score(X_train, y_train))\n",
    "print('Logistic Regresion validation accuracy:', model_lr.score(X_val, y_val))\n",
    "print()\n",
    "#Logistic Decision Tree\n",
    "\n",
    "print('Decision Tree training accuracy:', model_dt.score(X_train, y_train))\n",
    "print('Decision Tree validation accuracy:', model_dt.score(X_val, y_val))\n",
    "print()\n",
    "\n",
    "#LogisticRandom Forest\n",
    "\n",
    "print('Random Forest training accuracy:', model_rf.score(X_train, y_train))\n",
    "print('Random Forest validation accuracy:', model_rf.score(X_val, y_val))\n",
    "print()"
   ]
  },
  {
   "cell_type": "code",
   "execution_count": 82,
   "id": "702dce72",
   "metadata": {},
   "outputs": [],
   "source": [
    "# DECICION TREE HYPERPARAMETER TUNING\n",
    "depths = range(2,38,2)\n",
    "\n",
    "train_acc = []\n",
    "val_acc = []\n",
    "\n",
    "for depth in depths:\n",
    "  tree_model = make_pipeline(\n",
    "      OrdinalEncoder(),\n",
    "      SimpleImputer(strategy='mean'),\n",
    "      DecisionTreeClassifier(max_depth=depth, random_state=42)\n",
    "  )\n",
    "\n",
    "  tree_model.fit(X_train, y_train)\n",
    "\n",
    "  train_acc.append(tree_model.score(X_train, y_train))\n",
    "  val_acc.append(tree_model.score(X_val, y_val))"
   ]
  },
  {
   "cell_type": "code",
   "execution_count": 86,
   "id": "cb86c116",
   "metadata": {},
   "outputs": [],
   "source": [
    "# Creating a plot for the decision tree\n",
    "plt.plot(depths, train_acc, color='blue', label='training')\n",
    "plt.plot(depths, val_acc, color='orange', label='validation')\n",
    "\n",
    "plt.xlabel('max_depth')\n",
    "plt.ylabel('accuracy')\n",
    "plt.legend();"
   ]
  },
  {
   "cell_type": "code",
   "execution_count": null,
   "id": "9a282b08",
   "metadata": {},
   "outputs": [],
   "source": [
    "# RANDOM HYPERPARAMETER TUNING\n",
    "depths = range(2,38,2)\n",
    "\n",
    "train_acc = []\n",
    "val_acc = []\n",
    "\n",
    "for depth in depths:\n",
    "  tree_model = make_pipeline(\n",
    "      OrdinalEncoder(),\n",
    "      SimpleImputer(strategy='mean'),\n",
    "      RandomForestClassifier(max_depth=depth, random_state=42,n_estimators=100, n_jobs=-1)\n",
    "  )\n",
    "\n",
    "  tree_model.fit(X_train, y_train)\n",
    "\n",
    "  train_acc.append(tree_model.score(X_train, y_train))\n",
    "  val_acc.append(tree_model.score(X_val, y_val))"
   ]
  },
  {
   "cell_type": "code",
   "execution_count": null,
   "id": "d28c579a",
   "metadata": {},
   "outputs": [],
   "source": [
    "# Creating a plot for the random forest\n",
    "plt.plot(depths, train_acc, color='blue', label='training')\n",
    "plt.plot(depths, val_acc, color='orange', label='validation')\n",
    "\n",
    "plt.xlabel('max_depth')\n",
    "plt.ylabel('accuracy')\n",
    "plt.legend();"
   ]
  },
  {
   "cell_type": "code",
   "execution_count": null,
   "id": "16af77aa",
   "metadata": {},
   "outputs": [],
   "source": [
    "### Explain the decisiontree\n",
    "\n",
    "coefficients = model_dt.named_steps['decisiontreeclassifier']\n",
    "features = model_dt.named_steps['ordinalencoder'].get_feature_names()\n",
    "importances = model_dt.named_steps['decisiontreeclassifier'].feature_importances_\n",
    "\n",
    "feat_imp = pd.Series(importances, index=features).sort_values()\n",
    "feat_imp.tail(10).plot(kind='barh')\n",
    "plt.title('Decision Tree Coefficients');"
   ]
  },
  {
   "cell_type": "code",
   "execution_count": null,
   "id": "89ae64af",
   "metadata": {},
   "outputs": [],
   "source": [
    "### Explain the decisiontree\n",
    "\n",
    "bestimator = model_rfrs.best_estimator_\n",
    "importances = bestimator.named_steps['randomforestclassifier'].feature_importances_\n",
    "features = X_train.columns\n",
    "feat_imp = pd.Series(importances, index=features).sort_values()\n",
    "feat_imp.tail(10).plot(kind='barh')\n",
    "plt.xlabel('Reduction in Gini Impurity')"
   ]
  },
  {
   "cell_type": "code",
   "execution_count": null,
   "id": "bec5c7a3",
   "metadata": {},
   "outputs": [],
   "source": []
  },
  {
   "cell_type": "code",
   "execution_count": 87,
   "id": "1566fb3d",
   "metadata": {},
   "outputs": [],
   "source": [
    "# PREPARE FOR KAGGLE SUBMISSION\n",
    "\n",
    "submission = pd.DataFrame()\n",
    "submission['id'] = X_test.index\n",
    "submission['status_group'] = model_rf.predict(X_test)\n",
    "\n",
    "submission.to_csv('submission2.csv', index=False)"
   ]
  },
  {
   "cell_type": "code",
   "execution_count": 89,
   "id": "6fd73a88",
   "metadata": {},
   "outputs": [],
   "source": [
    "y_pred = model_rfgs.predict(X_test)\n",
    "submission = pd.DataFrame({'status_group':y_pred}, index=X_test.index)\n",
    "datestamp = pd.Timestamp.now().strftime('%Y-%m-%d_%H%M_')\n",
    "submission.to_csv(f'{datestamp}submission.csv')"
   ]
  },
  {
   "cell_type": "code",
   "execution_count": null,
   "id": "61e623da",
   "metadata": {},
   "outputs": [],
   "source": []
  }
 ],
 "metadata": {
  "kernelspec": {
   "display_name": "Python 3",
   "language": "python",
   "name": "python3"
  }
 },
 "nbformat": 4,
 "nbformat_minor": 5
}
